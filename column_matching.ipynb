{
 "cells": [
  {
   "cell_type": "code",
   "execution_count": 56,
   "metadata": {},
   "outputs": [],
   "source": [
    "from os import listdir\n",
    "from os.path import isfile, join\n",
    "mypath = r'C:\\Users\\Poonam\\Desktop\\Datasets'\n",
    "onlyfiles = [f for f in listdir(mypath) if isfile(join(mypath, f))]"
   ]
  },
  {
   "cell_type": "code",
   "execution_count": 57,
   "metadata": {},
   "outputs": [],
   "source": [
    "#onlyfiles"
   ]
  },
  {
   "cell_type": "code",
   "execution_count": 58,
   "metadata": {},
   "outputs": [],
   "source": [
    "list=[]\n",
    "for file in onlyfiles:\n",
    "    with open(mypath+r'\\\\'+file) as f:\n",
    "        first_line = f.readline()\n",
    "        list.append(first_line)\n"
   ]
  },
  {
   "cell_type": "markdown",
   "metadata": {},
   "source": [
    "###  Creating dictionary containing (col_name, file_name)"
   ]
  },
  {
   "cell_type": "code",
   "execution_count": 59,
   "metadata": {},
   "outputs": [],
   "source": [
    "new_dict = {}\n",
    "for file in onlyfiles:\n",
    "    with open(mypath+r'\\\\'+file) as f:\n",
    "        columns=[]\n",
    "        first_line = f.readline()\n",
    "        #print(first_line)\n",
    "        columns = [x.strip() for x in first_line.split(',')]\n",
    "        # print(columns)\n",
    "        for column in columns:\n",
    "            if column in new_dict:\n",
    "                new_dict[column].append(file);\n",
    "            else:\n",
    "                new_dict[column] = []\n",
    "                new_dict[column].append(file);\n",
    "                \n"
   ]
  },
  {
   "cell_type": "code",
   "execution_count": 60,
   "metadata": {},
   "outputs": [],
   "source": [
    "#for key, value in new_dict.items() :\n",
    "    #print (key, value)"
   ]
  },
  {
   "cell_type": "code",
   "execution_count": 61,
   "metadata": {},
   "outputs": [
    {
     "name": "stdout",
     "output_type": "stream",
     "text": [
      "['test.csv', 'total_waterborne_commerce.csv']\n"
     ]
    }
   ],
   "source": [
    "search_str = r'Foreign'\n",
    "if search_str in new_dict:\n",
    "        print(new_dict[search_str])"
   ]
  },
  {
   "cell_type": "markdown",
   "metadata": {},
   "source": [
    "search_str = r'State'\n",
    "for line in list:\n",
    "        if search_str in line:\n",
    "            print (line)"
   ]
  },
  {
   "cell_type": "code",
   "execution_count": null,
   "metadata": {
    "collapsed": true
   },
   "outputs": [],
   "source": []
  }
 ],
 "metadata": {
  "kernelspec": {
   "display_name": "Python 3",
   "language": "python",
   "name": "python3"
  },
  "language_info": {
   "codemirror_mode": {
    "name": "ipython",
    "version": 3
   },
   "file_extension": ".py",
   "mimetype": "text/x-python",
   "name": "python",
   "nbconvert_exporter": "python",
   "pygments_lexer": "ipython3",
   "version": "3.6.3"
  }
 },
 "nbformat": 4,
 "nbformat_minor": 2
}
